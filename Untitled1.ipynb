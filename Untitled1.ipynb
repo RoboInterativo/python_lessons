{
 "cells": [
  {
   "cell_type": "code",
   "execution_count": null,
   "id": "c3d98a22-738a-497b-91a2-d963ba9a68ce",
   "metadata": {},
   "outputs": [],
   "source": [
    "sum=0\n",
    "a=0\n",
    "b=0\n",
    "a=int(input(\"Введите число:\"))\n",
    "b=int(input(\"Введите число:\"))\n",
    "sum=a+b\n",
    "print(sum)\n",
    "\n"
   ]
  },
  {
   "cell_type": "code",
   "execution_count": 1,
   "id": "a0b099ed-2645-43a0-ac80-2d384091e960",
   "metadata": {},
   "outputs": [],
   "source": [
    "l=[]\n"
   ]
  },
  {
   "cell_type": "code",
   "execution_count": 5,
   "id": "c517b280-fce6-4af5-bfc1-dbc93a720e87",
   "metadata": {},
   "outputs": [],
   "source": [
    "l.append(1)"
   ]
  },
  {
   "cell_type": "code",
   "execution_count": 6,
   "id": "2ac34078-8852-45ab-8cfa-a2e978954e91",
   "metadata": {},
   "outputs": [
    {
     "data": {
      "text/plain": [
       "[1, 1]"
      ]
     },
     "execution_count": 6,
     "metadata": {},
     "output_type": "execute_result"
    }
   ],
   "source": [
    "l"
   ]
  },
  {
   "cell_type": "code",
   "execution_count": 17,
   "id": "c6ba3547-7283-4c87-800c-029b94c3d55e",
   "metadata": {},
   "outputs": [],
   "source": [
    "l=[]"
   ]
  },
  {
   "cell_type": "code",
   "execution_count": 18,
   "id": "d007cf2f-24ed-4470-b4f8-a8c64cd31252",
   "metadata": {},
   "outputs": [],
   "source": [
    "a={}\n",
    "a[\"name\"]=\"Аня\"\n",
    "a[\"age\"]=15\n",
    "a[\"city\"]=\"Санкт-Петербург\""
   ]
  },
  {
   "cell_type": "code",
   "execution_count": 19,
   "id": "9f9cc596-8944-44e6-b1f8-af600cfb6299",
   "metadata": {},
   "outputs": [],
   "source": [
    "l.append(a)"
   ]
  },
  {
   "cell_type": "code",
   "execution_count": 22,
   "id": "e4877b2d-a298-4448-9a0e-5031db66e437",
   "metadata": {},
   "outputs": [],
   "source": [
    "a={}\n",
    "a[\"name\"]=\"Леша\"\n",
    "a[\"age\"]=44\n",
    "a[\"city\"]=\"Санкт-Петербург\""
   ]
  },
  {
   "cell_type": "code",
   "execution_count": null,
   "id": "8341376d-e0cc-4c95-bdcd-d72543c6129c",
   "metadata": {},
   "outputs": [],
   "source": []
  },
  {
   "cell_type": "code",
   "execution_count": 23,
   "id": "925719e8-7719-4ca1-a1d9-bba7eb4d6251",
   "metadata": {},
   "outputs": [],
   "source": [
    "l.append(a)"
   ]
  },
  {
   "cell_type": "code",
   "execution_count": 28,
   "id": "32de61b2-bee2-44e1-9b67-f843995f0fda",
   "metadata": {},
   "outputs": [],
   "source": [
    "# !pip install faker"
   ]
  },
  {
   "cell_type": "code",
   "execution_count": 29,
   "id": "f85602c7-2ba0-46d2-8582-56181a4abde2",
   "metadata": {},
   "outputs": [],
   "source": [
    "from faker import Faker"
   ]
  },
  {
   "cell_type": "code",
   "execution_count": 30,
   "id": "d428bfdf-9327-46e8-85ac-8bfbd12f557a",
   "metadata": {},
   "outputs": [],
   "source": [
    "fake = Faker(\"ru_RU\")"
   ]
  },
  {
   "cell_type": "code",
   "execution_count": 35,
   "id": "6005c900-efc6-4378-bcd5-6e8852b5aaa9",
   "metadata": {},
   "outputs": [
    {
     "data": {
      "text/plain": [
       "'Филатова Галина Николаевна'"
      ]
     },
     "execution_count": 35,
     "metadata": {},
     "output_type": "execute_result"
    }
   ],
   "source": [
    "fake.name()"
   ]
  },
  {
   "cell_type": "code",
   "execution_count": 36,
   "id": "7cb1c2f1-33bf-42bb-a198-906bcbdb4a3a",
   "metadata": {},
   "outputs": [
    {
     "data": {
      "text/plain": [
       "'клх Байкальск, ул. Коммунистическая, д. 47 к. 5, 331432'"
      ]
     },
     "execution_count": 36,
     "metadata": {},
     "output_type": "execute_result"
    }
   ],
   "source": [
    "fake.address()"
   ]
  },
  {
   "cell_type": "code",
   "execution_count": 38,
   "id": "49e313c0-82e1-4044-bbe4-3f1b03aa56ee",
   "metadata": {},
   "outputs": [
    {
     "data": {
      "text/plain": [
       "'+7 (958) 878-8158'"
      ]
     },
     "execution_count": 38,
     "metadata": {},
     "output_type": "execute_result"
    }
   ],
   "source": [
    "fake.phone_number()"
   ]
  },
  {
   "cell_type": "code",
   "execution_count": 39,
   "id": "fc6507d4-fe7a-41cc-8301-0d7f0d79aa63",
   "metadata": {},
   "outputs": [
    {
     "data": {
      "text/plain": [
       "'zinaida2018@example.com'"
      ]
     },
     "execution_count": 39,
     "metadata": {},
     "output_type": "execute_result"
    }
   ],
   "source": [
    "fake.email()"
   ]
  },
  {
   "cell_type": "code",
   "execution_count": 25,
   "id": "30243938-53ad-4a86-a51b-dfcce7147b11",
   "metadata": {},
   "outputs": [
    {
     "name": "stdout",
     "output_type": "stream",
     "text": [
      "Аня\n",
      "Леша\n"
     ]
    }
   ],
   "source": [
    "for item in l:\n",
    "    print(item[\"name\"])"
   ]
  },
  {
   "cell_type": "code",
   "execution_count": 46,
   "id": "d23b8ffb-cd1e-4681-8165-52afb0221572",
   "metadata": {},
   "outputs": [],
   "source": [
    "l=[]\n",
    "for i in range(10):\n",
    "    a={}\n",
    "    a[\"name\"]=fake.name()\n",
    "    a[\"address\"]=fake.address()\n",
    "    a[\"phone\"]=fake.phone_number()\n",
    "    a[\"email\"]=fake.email()\n",
    "     \n",
    "    l.append(a)"
   ]
  },
  {
   "cell_type": "code",
   "execution_count": 47,
   "id": "2cc9fe7f-6f77-47a5-9bac-3be0b84ed889",
   "metadata": {},
   "outputs": [
    {
     "data": {
      "text/plain": [
       "[{'name': 'Громов Демид Владиленович',\n",
       "  'address': 'ст. Сковородино, ул. Попова, д. 874 стр. 88, 258796',\n",
       "  'phone': '+7 805 964 4894',\n",
       "  'email': 'natan_2019@example.net'},\n",
       " {'name': 'Филиппова Екатерина Тарасовна',\n",
       "  'address': 'клх Уренгой, бул. Менделеева, д. 413 стр. 7, 108149',\n",
       "  'phone': '87283420786',\n",
       "  'email': 'longin2025@example.com'},\n",
       " {'name': 'Фёкла Филипповна Котова',\n",
       "  'address': 'с. Ямбург, пер. Максима Горького, д. 5 стр. 394, 994114',\n",
       "  'phone': '85645054543',\n",
       "  'email': 'subbotinairaida@example.org'},\n",
       " {'name': 'Ефрем Федосеевич Гаврилов',\n",
       "  'address': 'д. Муравленко, пер. Парижской Коммуны, д. 349 стр. 16, 182077',\n",
       "  'phone': '+7 (246) 611-7333',\n",
       "  'email': 'kudrjashovmark@example.org'},\n",
       " {'name': 'Чернов Автоном Викентьевич',\n",
       "  'address': 'к. Кажим, ш. Щетинкина, д. 42, 170871',\n",
       "  'phone': '+74623085259',\n",
       "  'email': 'spartak92@example.com'},\n",
       " {'name': 'Носкова Ульяна Альбертовна',\n",
       "  'address': 'к. Воронеж, ул. Энтузиастов, д. 19, 209238',\n",
       "  'phone': '8 (128) 078-0310',\n",
       "  'email': 'gorbunovaolimpiada@example.com'},\n",
       " {'name': 'Бронислав Георгиевич Селезнев',\n",
       "  'address': 'с. Нязепетровск, ш. Озерное, д. 8/3, 896115',\n",
       "  'phone': '8 700 669 8558',\n",
       "  'email': 'kolesnikovlavr@example.org'},\n",
       " {'name': 'Блинов Вацлав Трифонович',\n",
       "  'address': 'к. Щелково, наб. Высотная, д. 4 стр. 47, 794423',\n",
       "  'phone': '+7 (282) 149-53-72',\n",
       "  'email': 'nikiforovmili@example.net'},\n",
       " {'name': 'Никон Данилович Фомин',\n",
       "  'address': 'к. Гаврилов-Ям, алл. Школьная, д. 15, 106397',\n",
       "  'phone': '8 (575) 219-00-20',\n",
       "  'email': 'naumgorshkov@example.net'},\n",
       " {'name': 'Самсонов Виссарион Богданович',\n",
       "  'address': 'с. Октябрьское (Хант.), алл. Красногвардейская, д. 93 стр. 3/4, 304213',\n",
       "  'phone': '+7 (406) 163-63-06',\n",
       "  'email': 'ferapont_1975@example.net'}]"
      ]
     },
     "execution_count": 47,
     "metadata": {},
     "output_type": "execute_result"
    }
   ],
   "source": [
    "l"
   ]
  },
  {
   "cell_type": "code",
   "execution_count": 62,
   "id": "4aca1cc2-8710-4531-9740-6e6af651dabe",
   "metadata": {},
   "outputs": [
    {
     "name": "stdout",
     "output_type": "stream",
     "text": [
      "Громов Д. В.\n",
      "Филиппова Е. Т.\n",
      "Фёкла Ф. К.\n",
      "Ефрем Ф. Г.\n",
      "Чернов А. В.\n",
      "Носкова У. А.\n",
      "Бронислав Г. С.\n",
      "Блинов В. Т.\n",
      "Никон Д. Ф.\n",
      "Самсонов В. Б.\n"
     ]
    }
   ],
   "source": [
    "for item in l:\n",
    "    person=item[\"name\"]\n",
    "    last,first,second=person.split()\n",
    "    fio=f\"{last} {first[0]}. {second[0]}.\"\n",
    "    \n",
    "    print(fio)"
   ]
  },
  {
   "cell_type": "code",
   "execution_count": 54,
   "id": "79faa412-1695-47fa-8b21-4af41e05c4be",
   "metadata": {},
   "outputs": [],
   "source": [
    "person=l[0][\"name\"]"
   ]
  },
  {
   "cell_type": "code",
   "execution_count": 65,
   "id": "21fb9782-a534-43a4-8a95-c4d101008e86",
   "metadata": {},
   "outputs": [
    {
     "ename": "TypeError",
     "evalue": "'<' not supported between instances of 'dict' and 'dict'",
     "output_type": "error",
     "traceback": [
      "\u001b[31m---------------------------------------------------------------------------\u001b[39m",
      "\u001b[31mTypeError\u001b[39m                                 Traceback (most recent call last)",
      "\u001b[36mCell\u001b[39m\u001b[36m \u001b[39m\u001b[32mIn[65]\u001b[39m\u001b[32m, line 1\u001b[39m\n\u001b[32m----> \u001b[39m\u001b[32m1\u001b[39m l2=l.sort()\n\u001b[32m      2\u001b[39m \u001b[38;5;28;01mfor\u001b[39;00m item \u001b[38;5;129;01min\u001b[39;00m l:\n\u001b[32m      3\u001b[39m     person=item[\u001b[33m\"\u001b[39m\u001b[33mname\u001b[39m\u001b[33m\"\u001b[39m]\n",
      "\u001b[31mTypeError\u001b[39m: '<' not supported between instances of 'dict' and 'dict'"
     ]
    }
   ],
   "source": [
    "\n",
    "for item in l:\n",
    "    person=item[\"name\"]\n",
    "    last,first,second=person.split()\n",
    "    fio=f\"{last} {first[0]}. {second[0]}.\"\n",
    "    \n",
    "    print(fio)"
   ]
  },
  {
   "cell_type": "code",
   "execution_count": 57,
   "id": "b44716db-546e-4b97-a940-2391b828c6f8",
   "metadata": {},
   "outputs": [],
   "source": [
    "last,first,second=person.split()"
   ]
  },
  {
   "cell_type": "code",
   "execution_count": 61,
   "id": "a901c3ba-2ddf-4a67-9494-7e15b68d7f9c",
   "metadata": {},
   "outputs": [
    {
     "data": {
      "text/plain": [
       "'Громов Д. В.'"
      ]
     },
     "execution_count": 61,
     "metadata": {},
     "output_type": "execute_result"
    }
   ],
   "source": []
  }
 ],
 "metadata": {
  "kernelspec": {
   "display_name": "Python 3 (ipykernel)",
   "language": "python",
   "name": "python3"
  },
  "language_info": {
   "codemirror_mode": {
    "name": "ipython",
    "version": 3
   },
   "file_extension": ".py",
   "mimetype": "text/x-python",
   "name": "python",
   "nbconvert_exporter": "python",
   "pygments_lexer": "ipython3",
   "version": "3.12.9"
  }
 },
 "nbformat": 4,
 "nbformat_minor": 5
}
