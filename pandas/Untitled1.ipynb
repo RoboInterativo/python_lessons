{
 "cells": [
  {
   "cell_type": "code",
   "execution_count": 3,
   "id": "fe6ca438-15c6-4b73-b23a-dab902d0b846",
   "metadata": {},
   "outputs": [
    {
     "data": {
      "text/plain": [
       "'Shilo'"
      ]
     },
     "execution_count": 3,
     "metadata": {},
     "output_type": "execute_result"
    }
   ],
   "source": [
    "import pandas as pd\n",
    "person={\n",
    "    \"first\": \"Alex\",\n",
    "    \"last\": \"Shilo\",\n",
    "    \"email\": \"alex.pricker@gmail.com\"\n",
    "}\n",
    "people={ \"first\": [\"Alex\",\"Serg\"],\n",
    "    \"last\": [\"Shilo\",\"Vaginsky\"],\n",
    "        \"email\": [\"alex.pricker@gmail.com\",\"sergvag@yandex.ru\"] }\n",
    "# df= pd.DataFrame(people)\n",
    "\n",
    "\n",
    "people['last'][0]"
   ]
  },
  {
   "cell_type": "code",
   "execution_count": 4,
   "id": "daa28e8f-0992-465f-b455-f7970881ec6c",
   "metadata": {},
   "outputs": [],
   "source": [
    "df= pd.DataFrame(people)"
   ]
  },
  {
   "cell_type": "code",
   "execution_count": 9,
   "id": "fb42a9d7-8bd1-4df4-a30b-76967523c403",
   "metadata": {},
   "outputs": [
    {
     "data": {
      "text/html": [
       "<div>\n",
       "<style scoped>\n",
       "    .dataframe tbody tr th:only-of-type {\n",
       "        vertical-align: middle;\n",
       "    }\n",
       "\n",
       "    .dataframe tbody tr th {\n",
       "        vertical-align: top;\n",
       "    }\n",
       "\n",
       "    .dataframe thead th {\n",
       "        text-align: right;\n",
       "    }\n",
       "</style>\n",
       "<table border=\"1\" class=\"dataframe\">\n",
       "  <thead>\n",
       "    <tr style=\"text-align: right;\">\n",
       "      <th></th>\n",
       "      <th>last</th>\n",
       "      <th>email</th>\n",
       "    </tr>\n",
       "  </thead>\n",
       "  <tbody>\n",
       "    <tr>\n",
       "      <th>0</th>\n",
       "      <td>Shilo</td>\n",
       "      <td>alex.pricker@gmail.com</td>\n",
       "    </tr>\n",
       "    <tr>\n",
       "      <th>1</th>\n",
       "      <td>Vaginsky</td>\n",
       "      <td>sergvag@yandex.ru</td>\n",
       "    </tr>\n",
       "  </tbody>\n",
       "</table>\n",
       "</div>"
      ],
      "text/plain": [
       "       last                   email\n",
       "0     Shilo  alex.pricker@gmail.com\n",
       "1  Vaginsky       sergvag@yandex.ru"
      ]
     },
     "execution_count": 9,
     "metadata": {},
     "output_type": "execute_result"
    }
   ],
   "source": [
    "df[[\"last\",\"email\"]]"
   ]
  }
 ],
 "metadata": {
  "kernelspec": {
   "display_name": "Python 3 (ipykernel)",
   "language": "python",
   "name": "python3"
  },
  "language_info": {
   "codemirror_mode": {
    "name": "ipython",
    "version": 3
   },
   "file_extension": ".py",
   "mimetype": "text/x-python",
   "name": "python",
   "nbconvert_exporter": "python",
   "pygments_lexer": "ipython3",
   "version": "3.12.9"
  }
 },
 "nbformat": 4,
 "nbformat_minor": 5
}
