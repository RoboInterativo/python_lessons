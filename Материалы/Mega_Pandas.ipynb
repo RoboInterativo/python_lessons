{
 "cells": [
  {
   "cell_type": "markdown",
   "id": "39a61de4",
   "metadata": {},
   "source": [
    "**Дарья Касьяненко**\n",
    "\n",
    "* Эксперт [Центра непрерывного образования](https://cs.hse.ru/dpo/) ФКН НИУ ВШЭ \n",
    "* Академический руководитель онлайн-магистратуры «[Инженерия данных](https://www.hse.ru/ma/data-engineering/)»\n",
    "* Старший преподаватель ФКН НИУ ВШЭ\n",
    "\n",
    "<hr>"
   ]
  },
  {
   "cell_type": "markdown",
   "id": "55d42927",
   "metadata": {},
   "source": [
    "# Завершим день 1. Цикл for"
   ]
  },
  {
   "cell_type": "markdown",
   "id": "d8a23756",
   "metadata": {},
   "source": [
    "Проанализиуем расходы за год:\n",
    "   * Есть список, где за каждый из 12 месяцев записана сумма расходов\n",
    "   * Необходимо с помощью цикла найти сумму расходов"
   ]
  },
  {
   "cell_type": "code",
   "execution_count": null,
   "id": "e8064cfd",
   "metadata": {},
   "outputs": [],
   "source": [
    "summ = [30000, 120000, 70000, 90000, 40000, 45000, 51000, 68000, 95000, 39000, 99000, 23000]"
   ]
  },
  {
   "cell_type": "code",
   "execution_count": null,
   "id": "3d55cb61",
   "metadata": {},
   "outputs": [],
   "source": [
    "final = 0\n",
    "for s in summ:\n",
    "    final += s\n",
    "print(final)"
   ]
  },
  {
   "cell_type": "markdown",
   "id": "42a86b55",
   "metadata": {},
   "source": [
    "Немного изменим условие:\n",
    "   * Будем выводить номера месяцев, для которых расходы превысили 50000"
   ]
  },
  {
   "cell_type": "code",
   "execution_count": null,
   "id": "0488a082",
   "metadata": {},
   "outputs": [],
   "source": [
    "for i in range(len(summ)):\n",
    "    if summ[i] > 50000:\n",
    "        print(i+1)"
   ]
  },
  {
   "cell_type": "markdown",
   "id": "678b2bc3",
   "metadata": {},
   "source": [
    "# День 2. Работаем с таблицами и идем на свидание (с Python)"
   ]
  },
  {
   "cell_type": "code",
   "execution_count": null,
   "id": "8fcd0825",
   "metadata": {},
   "outputs": [],
   "source": [
    "import pandas as pd\n",
    "import numpy as np"
   ]
  },
  {
   "cell_type": "code",
   "execution_count": null,
   "id": "25e0e0c0",
   "metadata": {},
   "outputs": [],
   "source": [
    "df = pd.read_csv('dates.csv')"
   ]
  },
  {
   "cell_type": "markdown",
   "id": "93d66190",
   "metadata": {},
   "source": [
    "`df` – это название переменной, в которой будет храниться наша таблица. \\\n",
    "`pd.read_csv()` – это вызов функции, которая умеет считывать файлы csv и преобразовывать их в объект DataFrame (мы часто будем называть наши таблицы датафреймами). \\\n",
    "`'dates.csv'` – это название нашего файла, с которым будем работать. Важно, чтобы он лежал в той же папке, что и эта тетрадка .ipynb.\n",
    "\n",
    "Посмотрим на датафрейм:"
   ]
  },
  {
   "cell_type": "code",
   "execution_count": null,
   "id": "a74e524d",
   "metadata": {},
   "outputs": [],
   "source": [
    "df.head() # первые пять строк таблицы"
   ]
  },
  {
   "cell_type": "code",
   "execution_count": null,
   "id": "a8e20cc7",
   "metadata": {},
   "outputs": [],
   "source": [
    "df.tail() # последние пять строк таблицы"
   ]
  },
  {
   "cell_type": "code",
   "execution_count": null,
   "id": "800f72a7",
   "metadata": {},
   "outputs": [],
   "source": [
    "df.sample(10) # рандомные 10 строк таблицы"
   ]
  },
  {
   "cell_type": "markdown",
   "id": "33286f81",
   "metadata": {},
   "source": [
    "### Описание признаков\n",
    "\n",
    " * gender: пол\n",
    " * age: свой возраст\n",
    " * age_o: возраст партнера  \n",
    " * field: сфера занятий\n",
    " \n",
    "**Раздел про важность различных качеств (нужно распределить между 5 категориями 100 баллов)**\n",
    " * pref_o_attractive: Насколько важна привлекательность?\n",
    " * pref_o_sinsere: Насколько важна искренность?\n",
    " * pref_o_intelligence: Насколько важен интеллект? \n",
    " * pref_o_funny: Насколько важно чувство юмора?\n",
    " * pref_o_ambitious: Насколько важна амбициозность? \n",
    " * pref_o_shared_interests: Насколько важно разделять одинаковые интересы? \n",
    " \n",
    "**Как оценили друг друга на встрече (0-10)**\n",
    " * attractive_o: Оценка привлекательности (от партнера) в вечер встречи \n",
    " * sincere_o: Оценка искренности (от партнера) в вечер встречи\n",
    " * intelligence_o: Оценка интеллекта (от партнера) в вечер встречи \n",
    " * funny_o: Оценка чувства юмора (от партнера) в вечер встречи \n",
    " * ambitous_o: Оценка амбициозности (от партнера) в вечер встречи  \n",
    " * shared_interests_o: Оценка общих интересов (от партнера) в вечер встречи  \n",
    " * attractive: Оценка собственной привлекательности\n",
    " * sincere: Оценка собственной искренности   \n",
    " * intelligence: Оценка собственного интеллекта   \n",
    " * funny: Оценка собственного чувства юмора  \n",
    " * ambition: Оценка собственных амбиций\n",
    " * attractive_partner: Оценка привлекательности партнера в вечер встречи  \n",
    " * sincere_partner: Оценка искренности партнера в вечер встречи  \n",
    " * intelligence_partner: Оценка интеллекта партнера в вечер встречи   \n",
    " * funny_partner: Оценка чувства юмора партнера в вечер встречи   \n",
    " * ambition_partner: Оценка амбициозности партнера в вечер встречи   \n",
    " * shared_interests_partner: Оценка общих интересов партнера в вечер встречи  \n",
    "\n",
    "**Оценка своих интересов в разных сферах (0-10)**\n",
    " * sports\n",
    " * tvsports  \n",
    " * exercise  \n",
    " * dining  \n",
    " * museums  \n",
    " * art  \n",
    " * hiking  \n",
    " * gaming  \n",
    " * clubbing  \n",
    " * reading  \n",
    " * tv  \n",
    " * theater  \n",
    " * movies  \n",
    " * concerts  \n",
    " * music  \n",
    " * shopping  \n",
    " * yoga   \n",
    " \n",
    "**Оценка ожиданий от быстрого свидания**\n",
    " * expected_happy_with_sd_people: Насколько вы будете удовлетворены людьми, которых встретите на спид-дэйтинге? (0-10)\n",
    " * expected_num_interested_in_me: Из 20 людей, которых вы встретите на спид-дейтинге, как вы думаете, сколько будут заинтересованы пойти с вами на настоящее свидание?\n",
    " * expected_num_matches: Сколько взаимных симпатий вы ожидаете?\n",
    " \n",
    "**Результаты быстрого свидания**\n",
    " * like: Понравился ли вам партнер?  \n",
    " * guess_prob_liked: Как вы думаете, вы понравились партнеру?\n",
    " * met: Вы уже встречались с этим партнером?\n",
    " * decision: Ваше решение\n",
    " * decision_o: Решение вашего партнера \n",
    " * match: Мэтч (да/нет)"
   ]
  },
  {
   "cell_type": "markdown",
   "id": "851a5729",
   "metadata": {},
   "source": [
    "## Информация о таблице"
   ]
  },
  {
   "cell_type": "code",
   "execution_count": null,
   "id": "e4525c82",
   "metadata": {},
   "outputs": [],
   "source": [
    "df.shape  # (кол-во строк, кол-во столбцов)"
   ]
  },
  {
   "cell_type": "code",
   "execution_count": null,
   "id": "54bf9541",
   "metadata": {},
   "outputs": [],
   "source": [
    "df.info() # сводная информация о таблице"
   ]
  },
  {
   "cell_type": "markdown",
   "id": "d1e492c6",
   "metadata": {},
   "source": [
    "Как прочитать таблицу выше? \n",
    "1. `<class 'pandas.core.frame.DataFrame'>` – Python видит нашу таблицу как объект DataFrame.\n",
    "2. `RangeIndex: 1048 entries, 0 to 1047` – в таблице 1048 строк с индексами от 0 до 1047. В Python все считается с 0, а не 1, как мы привыкли.\n",
    "3. `Data columns (total 52 columns):` – в таблице 52 колонки.\n",
    "4. После выводится небольшая таблица с информацией о названии колонки (`Column`), количестве непустых ячеек в колонке (`Non-Null Count`), а также тип данных (`Dtype`). \n",
    "5. `dtypes: float64(11), int64(39), object(2)` – сводка по количеству столбцов с разными типами данных. Тип `object` – это обычная строка.\n",
    "6. `memory usage: 434.1+ KB` – сколько памяти занимает таблица."
   ]
  },
  {
   "cell_type": "markdown",
   "id": "8a926c31",
   "metadata": {},
   "source": [
    "## Обращение к данным в таблице"
   ]
  },
  {
   "cell_type": "code",
   "execution_count": null,
   "id": "fbedb6c8",
   "metadata": {},
   "outputs": [],
   "source": [
    "df['gender'] # один столбец"
   ]
  },
  {
   "cell_type": "code",
   "execution_count": null,
   "id": "b4c1603b",
   "metadata": {},
   "outputs": [],
   "source": [
    "df.gender # или так"
   ]
  },
  {
   "cell_type": "code",
   "execution_count": null,
   "id": "878cefe9",
   "metadata": {},
   "outputs": [],
   "source": [
    "df[['gender', 'field']] # Два столбца. Что за тип данных заключает в себя названия столбцов?"
   ]
  },
  {
   "cell_type": "code",
   "execution_count": null,
   "id": "c43e7567",
   "metadata": {},
   "outputs": [],
   "source": [
    "df.loc[0] # первая строка в таблице"
   ]
  },
  {
   "cell_type": "code",
   "execution_count": null,
   "id": "25ef2d4c",
   "metadata": {},
   "outputs": [],
   "source": [
    "df.loc[999] # тысячная строка в таблице"
   ]
  },
  {
   "cell_type": "code",
   "execution_count": null,
   "id": "be13a762",
   "metadata": {},
   "outputs": [],
   "source": [
    "df.loc[0, 'gender':'age_o'] # первая строка, значения из трех колонок"
   ]
  },
  {
   "cell_type": "markdown",
   "id": "36f07650",
   "metadata": {},
   "source": [
    "<hr>\n",
    "\n",
    "### Задание"
   ]
  },
  {
   "cell_type": "markdown",
   "id": "41d21f41",
   "metadata": {},
   "source": [
    "Найдите, какой пол и сколько лет было человеку под индексом 777 в датасете, сколько лет было партнеру, из какой сферы деятельности он/а?"
   ]
  },
  {
   "cell_type": "code",
   "execution_count": null,
   "id": "54f06e5c",
   "metadata": {},
   "outputs": [],
   "source": [
    "# ваш код"
   ]
  },
  {
   "cell_type": "markdown",
   "id": "6fed2ed7",
   "metadata": {},
   "source": [
    "<hr>"
   ]
  },
  {
   "cell_type": "markdown",
   "id": "1c02ff19",
   "metadata": {},
   "source": [
    "## Фильтрация данных\n",
    "\n",
    "Операторы сравнения: \n",
    "* **==** равно\n",
    "* **!=** не равно\n",
    "* **\\>** больше чем\n",
    "* **\\<** меньше чем\n",
    "* **\\>=** больше или равно чем\n",
    "* **<=** меньше или равно чем\n",
    "\n",
    "Операторы для нескольких условий (все условия должны быть в скобках!)\n",
    "* `&` - И\n",
    "* `|` - ИЛИ"
   ]
  },
  {
   "cell_type": "code",
   "execution_count": null,
   "id": "68172de3",
   "metadata": {},
   "outputs": [],
   "source": [
    "df['gender'] == 'female' # переведет ячейки в True или False в выбранной колонке"
   ]
  },
  {
   "cell_type": "code",
   "execution_count": null,
   "id": "c45644ba",
   "metadata": {},
   "outputs": [],
   "source": [
    "df[df['gender'] == 'female'] # покажет строки, в которых df['gender'] == 'female'"
   ]
  },
  {
   "cell_type": "code",
   "execution_count": null,
   "id": "4a983e1d",
   "metadata": {},
   "outputs": [],
   "source": [
    "df[(df['gender'] == 'female') & (df['age'] > 25)] # все свидания, в которых участвовали девушки старше 25 лет"
   ]
  },
  {
   "cell_type": "markdown",
   "id": "01dbd1e9",
   "metadata": {},
   "source": [
    "<hr>\n",
    "\n",
    "### Задание\n",
    "\n",
    "Найдите всех мужчин-бизнесменов (Business) старше 35 лет, которые оценили собственную привлекательность на 5 баллов и выше."
   ]
  },
  {
   "cell_type": "code",
   "execution_count": null,
   "id": "85480ca2",
   "metadata": {},
   "outputs": [],
   "source": [
    "# ваш код"
   ]
  },
  {
   "cell_type": "markdown",
   "id": "2a47be12",
   "metadata": {},
   "source": [
    "<hr>"
   ]
  },
  {
   "cell_type": "markdown",
   "id": "ead3dcaf",
   "metadata": {},
   "source": [
    "## Сортировка данных"
   ]
  },
  {
   "cell_type": "code",
   "execution_count": null,
   "id": "734b32a1",
   "metadata": {},
   "outputs": [],
   "source": [
    "df.sort_values('pref_o_funny') # сначала те, кому чувство юмора не важно в партнере"
   ]
  },
  {
   "cell_type": "code",
   "execution_count": null,
   "id": "545055a9",
   "metadata": {},
   "outputs": [],
   "source": [
    "df.sort_values('pref_o_funny', ascending=False) # сначала те, кому чувство юмора важно"
   ]
  },
  {
   "cell_type": "markdown",
   "id": "e8e89720",
   "metadata": {},
   "source": [
    "<hr>\n",
    "\n",
    "### Задание\n",
    "\n",
    "Выведите информацию о первых 10 женщинах, которые занимаются правом (Law), любят заниматься шопингом (оценка 5 и выше), ожидают не менее 2 мэтчей от свидания – от наиболее привлекательной (по оценке партнера) до наименее привлекательной (по оценке партнера)."
   ]
  },
  {
   "cell_type": "code",
   "execution_count": null,
   "id": "f7b843c5",
   "metadata": {},
   "outputs": [],
   "source": [
    "pd.set_option('display.max_columns', 52) # чтобы все колонки показывались в выводе"
   ]
  },
  {
   "cell_type": "code",
   "execution_count": null,
   "id": "38f060c4",
   "metadata": {},
   "outputs": [],
   "source": [
    "# ваш код"
   ]
  },
  {
   "cell_type": "markdown",
   "id": "1123f775",
   "metadata": {},
   "source": [
    "<hr>"
   ]
  },
  {
   "cell_type": "markdown",
   "id": "cc65600f",
   "metadata": {},
   "source": [
    "## Частотные таблицы"
   ]
  },
  {
   "cell_type": "code",
   "execution_count": null,
   "id": "fc319087",
   "metadata": {},
   "outputs": [],
   "source": [
    "df['gender'].value_counts() # количество свиданий мужчин и женщин в датасете (формат – столбец)"
   ]
  },
  {
   "cell_type": "code",
   "execution_count": null,
   "id": "bfe3106b",
   "metadata": {},
   "outputs": [],
   "source": [
    "df['gender'].value_counts().reset_index() # количество свиданий мужчин и женщин в датасете (формат – таблица)"
   ]
  },
  {
   "cell_type": "code",
   "execution_count": null,
   "id": "203cf31b",
   "metadata": {},
   "outputs": [],
   "source": [
    "df[['field', 'gender']].value_counts() # количество свиданий м и ж с разбивкой на сферу деятельности"
   ]
  },
  {
   "cell_type": "code",
   "execution_count": null,
   "id": "62ec105d",
   "metadata": {},
   "outputs": [],
   "source": [
    "df[['field', 'gender']].value_counts().unstack() # количество свиданий м и ж с разбивкой на сферу деятельности\n",
    "                                                 # формат – таблица"
   ]
  },
  {
   "cell_type": "code",
   "execution_count": null,
   "id": "8c162a97",
   "metadata": {},
   "outputs": [],
   "source": [
    "df[['field', 'gender']].value_counts().unstack().sort_values('field') # отсортируем по сферам дея-ти A-Z"
   ]
  },
  {
   "cell_type": "code",
   "execution_count": null,
   "id": "bfac76fc",
   "metadata": {},
   "outputs": [],
   "source": [
    "# отсортируем сначала по кол-ву женщин в сфере деятельности, потом по кол-ву мужчин в сфере деятельности\n",
    "df[['field', 'gender']].value_counts().unstack().sort_values(['female', 'male'], ascending=False)"
   ]
  },
  {
   "cell_type": "code",
   "execution_count": null,
   "id": "a5b34c85",
   "metadata": {},
   "outputs": [],
   "source": [
    "df[['expected_num_matches', 'match']].value_counts().unstack() # соотношение ожидаемого кол-ва мэтчей и реальности"
   ]
  },
  {
   "cell_type": "code",
   "execution_count": null,
   "id": "a6203e16",
   "metadata": {},
   "outputs": [],
   "source": [
    "# соотношение ожидаемого кол-ва мэтчей и реальности в долях (процентах)\n",
    "\n",
    "df[['expected_num_matches', 'match']].value_counts(normalize=True).unstack() # * 100"
   ]
  },
  {
   "cell_type": "markdown",
   "id": "6837479e",
   "metadata": {},
   "source": [
    "<hr>\n",
    "\n",
    "### Задание\n",
    "\n",
    "Найдите соотношение оценки своей привлекательности и оценки привлекательности от партнера."
   ]
  },
  {
   "cell_type": "code",
   "execution_count": null,
   "id": "fb1cbf5d",
   "metadata": {},
   "outputs": [],
   "source": [
    "# ваш код"
   ]
  },
  {
   "cell_type": "markdown",
   "id": "f5db20f2",
   "metadata": {},
   "source": [
    "<hr>"
   ]
  },
  {
   "cell_type": "code",
   "execution_count": null,
   "id": "45d0f9eb",
   "metadata": {},
   "outputs": [],
   "source": [
    "# import seaborn as sns # библиотека для графиков\n",
    "\n",
    "# # сохраним в новый датафрейм полученную таблицу\n",
    "# attract = df[['attractive', 'attractive_o']].value_counts().unstack().fillna(0) # заменим пустоты на 0\n",
    "\n",
    "# # тепловая карта\n",
    "# s = sns.heatmap(attract, annot=True);\n",
    "# s.set(xlabel='Оценка от партнера', ylabel='Оценка себя');"
   ]
  }
 ],
 "metadata": {
  "kernelspec": {
   "display_name": "Python 3 (ipykernel)",
   "language": "python",
   "name": "python3"
  },
  "language_info": {
   "codemirror_mode": {
    "name": "ipython",
    "version": 3
   },
   "file_extension": ".py",
   "mimetype": "text/x-python",
   "name": "python",
   "nbconvert_exporter": "python",
   "pygments_lexer": "ipython3",
   "version": "3.12.9"
  }
 },
 "nbformat": 4,
 "nbformat_minor": 5
}
